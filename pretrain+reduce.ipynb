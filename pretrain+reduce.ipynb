{
  "cells": [
    {
      "cell_type": "code",
      "execution_count": null,
      "metadata": {
        "id": "VSNMKPCrOs_G"
      },
      "outputs": [],
      "source": [
        "!pip install neptune-client"
      ]
    },
    {
      "cell_type": "code",
      "execution_count": 2,
      "metadata": {
        "id": "HT67bYjT_aaj"
      },
      "outputs": [],
      "source": [
        "! mkdir pretrain-networks"
      ]
    },
    {
      "cell_type": "code",
      "execution_count": null,
      "metadata": {
        "id": "FGPPTpoi_qTZ"
      },
      "outputs": [],
      "source": [
        "%cd pretrain-networks/"
      ]
    },
    {
      "cell_type": "code",
      "execution_count": 4,
      "metadata": {
        "id": "Gs4N_B5ea4Or"
      },
      "outputs": [],
      "source": [
        "! cp /content/drive/MyDrive/Science/pretrain-networks.zip ."
      ]
    },
    {
      "cell_type": "code",
      "execution_count": null,
      "metadata": {
        "id": "FaTDDfGPbRvk"
      },
      "outputs": [],
      "source": [
        "! unzip pretrain-networks.zip"
      ]
    },
    {
      "cell_type": "code",
      "execution_count": 6,
      "metadata": {
        "id": "i6c8yup0ADu1"
      },
      "outputs": [],
      "source": [
        "! rm pretrain-networks.zip"
      ]
    },
    {
      "cell_type": "code",
      "execution_count": 7,
      "metadata": {
        "colab": {
          "base_uri": "https://localhost:8080/"
        },
        "id": "5Of4J27WbWwd",
        "outputId": "a7f29c48-7032-42c2-d8c0-11981cf57014"
      },
      "outputs": [
        {
          "output_type": "stream",
          "name": "stdout",
          "text": [
            "https://app.neptune.ai/kroschenko/pretrain-networks/e/PRET-37\n",
            "Downloading http://yann.lecun.com/exdb/mnist/train-images-idx3-ubyte.gz\n",
            "Downloading http://yann.lecun.com/exdb/mnist/train-images-idx3-ubyte.gz to ./data/MNIST/raw/train-images-idx3-ubyte.gz\n",
            "100% 9912422/9912422 [00:00<00:00, 184611096.65it/s]\n",
            "Extracting ./data/MNIST/raw/train-images-idx3-ubyte.gz to ./data/MNIST/raw\n",
            "\n",
            "Downloading http://yann.lecun.com/exdb/mnist/train-labels-idx1-ubyte.gz\n",
            "Downloading http://yann.lecun.com/exdb/mnist/train-labels-idx1-ubyte.gz to ./data/MNIST/raw/train-labels-idx1-ubyte.gz\n",
            "100% 28881/28881 [00:00<00:00, 92118398.35it/s]\n",
            "Extracting ./data/MNIST/raw/train-labels-idx1-ubyte.gz to ./data/MNIST/raw\n",
            "\n",
            "Downloading http://yann.lecun.com/exdb/mnist/t10k-images-idx3-ubyte.gz\n",
            "Downloading http://yann.lecun.com/exdb/mnist/t10k-images-idx3-ubyte.gz to ./data/MNIST/raw/t10k-images-idx3-ubyte.gz\n",
            "100% 1648877/1648877 [00:00<00:00, 79412679.09it/s]\n",
            "Extracting ./data/MNIST/raw/t10k-images-idx3-ubyte.gz to ./data/MNIST/raw\n",
            "\n",
            "Downloading http://yann.lecun.com/exdb/mnist/t10k-labels-idx1-ubyte.gz\n",
            "Downloading http://yann.lecun.com/exdb/mnist/t10k-labels-idx1-ubyte.gz to ./data/MNIST/raw/t10k-labels-idx1-ubyte.gz\n",
            "100% 4542/4542 [00:00<00:00, 14988614.29it/s]\n",
            "Extracting ./data/MNIST/raw/t10k-labels-idx1-ubyte.gz to ./data/MNIST/raw\n",
            "\n",
            "{'layer_0': [1231358.375, 631790.0625, 471297.375, 386068.9375, 332727.5, 255669.609375, 187955.734375, 155512.125, 136179.96875, 123125.1015625], 'layer_1': [1287688.25, 552690.5625, 376671.21875, 290980.15625, 241120.75, 179982.78125, 134643.4375, 115305.6953125, 104010.46875, 96433.125]}\n",
            "[220.5514401048422, 134.4722490310669, 119.31354039162397, 109.44439515471458, 102.06354360282421, 95.71398920565844, 90.22747844085097, 85.24641703814268, 81.12860642373562, 77.13994273170829]\n",
            "{'layer_0': [1235957.5, 631250.5625, 471574.375, 386798.625, 333537.78125, 256438.109375, 188429.828125, 155753.3125, 136107.828125, 122942.2109375], 'layer_1': [1294274.0, 551789.375, 374769.65625, 290177.53125, 241032.625, 180416.0625, 135364.609375, 116298.2109375, 105187.6171875, 97659.7421875]}\n",
            "[220.13607966899872, 134.27726761996746, 119.11527445912361, 109.63499553501606, 102.01755937188864, 95.42901049554348, 90.20703380554914, 85.51362457126379, 81.07152340561152, 77.23903132230043]\n",
            "[94.32, 94.54]\n",
            "{'layer_0': [774644.0625, 353774.34375, 258448.75, 212062.484375, 183821.390625, 145682.546875, 111375.328125, 95005.9921875, 85109.1015625, 78367.625], 'layer_1': [1046817.0, 372305.5625, 257070.5625, 204982.96875, 175367.890625, 141030.0625, 109975.3828125, 95617.484375, 86767.71875, 80509.21875], 'layer_2': [1508698.75, 609590.125, 422958.40625, 333341.34375, 280124.0625, 212451.484375, 157696.453125, 133552.078125, 119585.109375, 110223.4765625], 'layer_3': [1227107.125, 502405.0, 337378.78125, 256058.796875, 207093.734375, 144188.59375, 97701.25, 79285.875, 69635.9609375, 63757.4140625]}\n",
            "[208.75179447233677, 123.44837421923876, 107.15734113752842, 96.80945917963982, 88.61956569179893, 82.17260567471385, 76.38845910131931, 71.45173035934567, 67.63371440023184, 63.8494111225009]\n",
            "{'layer_0': [776255.125, 353825.28125, 259437.59375, 213116.4375, 184705.21875, 146207.5625, 111370.921875, 94958.375, 85038.734375, 78325.7890625], 'layer_1': [1045603.3125, 375453.625, 258995.375, 206084.796875, 176070.296875, 141408.421875, 110172.40625, 95747.3984375, 86883.859375, 80623.421875], 'layer_2': [1504317.875, 611931.5, 423850.21875, 333417.78125, 280077.28125, 212329.734375, 157393.734375, 133220.8125, 119238.0546875, 109841.5], 'layer_3': [1228511.25, 504206.28125, 337442.6875, 255371.140625, 206445.6875, 144063.0, 97364.328125, 78950.7734375, 69394.3671875, 63648.36328125]}\n",
            "[208.9504844546318, 124.05914244055748, 107.54145027697086, 96.70106536149979, 89.29298407584429, 82.22670164704323, 76.47634390741587, 72.07342306897044, 67.54575177654624, 63.65018347278237]\n",
            "[95.08, 94.97]\n",
            "{'layer_0': [1308780.375, 691802.375, 530456.3125, 444994.6875, 389940.6875, 306935.9375, 227312.3125, 185592.296875, 159367.6875, 141391.859375], 'layer_1': [1282754.0, 604077.8125, 422328.15625, 328213.4375, 270661.375, 196127.984375, 139289.828125, 116466.7734375, 103738.8046875, 95470.9609375]}\n",
            "[237.78242641687393, 144.18479450047016, 128.8041359037161, 118.5822664797306, 111.10647314786911, 104.46831759810448, 99.0181424766779, 93.50803120434284, 89.06753659248352, 84.96533805504441]\n",
            "{'layer_0': [1314426.875, 691448.625, 531425.8125, 446576.21875, 391746.28125, 308340.375, 228077.953125, 186513.828125, 159917.703125, 141739.296875], 'layer_1': [1292230.75, 604282.6875, 420374.40625, 325771.4375, 268322.15625, 194272.953125, 137772.578125, 115247.3828125, 102729.96875, 94578.4921875]}\n",
            "[236.1008184403181, 143.49794252216816, 127.6966683268547, 118.323985055089, 110.81424695253372, 104.31948709487915, 98.72026297450066, 94.00875582545996, 89.5826468989253, 85.31370940804482]\n",
            "[94.0, 94.08]\n",
            "{'layer_0': [836248.0, 408506.875, 306024.375, 253326.734375, 220138.921875, 173749.90625, 130362.4921875, 108680.8515625, 95500.171875, 86285.5078125], 'layer_1': [1066943.25, 427263.125, 295462.0625, 232090.859375, 194708.765625, 151075.1875, 112169.9765625, 95268.7265625, 85476.3671875, 78885.265625], 'layer_2': [1460419.375, 618870.5625, 428299.75, 333650.625, 276485.6875, 202792.71875, 143015.1875, 118025.546875, 104381.171875, 95777.6015625], 'layer_3': [1157966.5, 490038.375, 328529.78125, 247003.84375, 197584.953125, 132620.828125, 83864.28125, 65388.578125, 56197.109375, 50891.3671875]}\n",
            "[223.12146021425724, 132.2792948782444, 115.65466714650393, 105.91022528707981, 97.6020979359746, 90.8988362327218, 85.43166406452656, 79.79892808943987, 75.30624704435468, 71.46236660331488]\n",
            "{'layer_0': [836973.5625, 408444.34375, 306434.40625, 253668.0, 220277.296875, 173859.1875, 129974.1875, 108653.75, 95404.609375, 86144.4921875], 'layer_1': [1076798.25, 432949.03125, 299558.625, 235093.546875, 197059.625, 152652.25, 113140.953125, 95989.5859375, 86041.09375, 79349.5078125], 'layer_2': [1461892.875, 622642.1875, 429816.65625, 334671.59375, 277093.375, 202760.84375, 143149.515625, 118302.5703125, 104697.5703125, 96047.4375], 'layer_3': [1168302.75, 496241.125, 332378.5, 249252.125, 198939.46875, 133291.328125, 83975.8984375, 65301.4140625, 56152.26171875, 50921.69921875]}\n",
            "[222.76609244942665, 132.2969060242176, 116.18237753212452, 104.96041487157345, 98.38263446837664, 90.94651935994625, 84.9780720770359, 79.66762896627188, 75.66088799014688, 70.8504541143775]\n",
            "[94.82, 94.39]\n",
            "Downloading https://www.cs.toronto.edu/~kriz/cifar-10-python.tar.gz to ./data/cifar-10-python.tar.gz\n",
            "100% 170498071/170498071 [00:12<00:00, 13790723.28it/s]\n",
            "Extracting ./data/cifar-10-python.tar.gz to ./data\n",
            "Files already downloaded and verified\n",
            "Error in sys.excepthook:\n",
            "Traceback (most recent call last):\n",
            "  File \"/usr/lib/python3.7/linecache.py\", line 47, in getlines\n",
            "    return updatecache(filename, module_globals)\n",
            "  File \"/usr/lib/python3.7/linecache.py\", line 136, in updatecache\n",
            "    with tokenize.open(fullname) as fp:\n",
            "  File \"/usr/lib/python3.7/tokenize.py\", line 449, in open\n",
            "    encoding, lines = detect_encoding(buffer.readline)\n",
            "  File \"/usr/lib/python3.7/tokenize.py\", line 418, in detect_encoding\n",
            "    first = read_or_stop()\n",
            "  File \"/usr/lib/python3.7/tokenize.py\", line 376, in read_or_stop\n",
            "    return readline()\n",
            "KeyboardInterrupt\n",
            "\n",
            "Original exception was:\n",
            "Traceback (most recent call last):\n",
            "  File \"rbm_classic_train.py\", line 46, in <module>\n",
            "    statistics, losses = utl.run_experiment(run, layers, utl.PretrainingType.RBMClassic, trainset, trainloader, testloader, device)\n",
            "  File \"/content/pretrain-networks/utilities.py\", line 210, in run_experiment\n",
            "    layers_losses = rbm_stack.train(run, trainset, trainloader, pretrain_type)\n",
            "  File \"/content/pretrain-networks/rbm_stack.py\", line 28, in train\n",
            "    for i, data in enumerate(trainloader, 0):\n",
            "  File \"/usr/local/lib/python3.7/dist-packages/torch/utils/data/dataloader.py\", line 681, in __next__\n",
            "    data = self._next_data()\n",
            "  File \"/usr/local/lib/python3.7/dist-packages/torch/utils/data/dataloader.py\", line 1359, in _next_data\n",
            "    idx, data = self._get_data()\n",
            "  File \"/usr/local/lib/python3.7/dist-packages/torch/utils/data/dataloader.py\", line 1325, in _get_data\n",
            "    success, data = self._try_get_data()\n",
            "  File \"/usr/local/lib/python3.7/dist-packages/torch/utils/data/dataloader.py\", line 1163, in _try_get_data\n",
            "    data = self._data_queue.get(timeout=timeout)\n",
            "  File \"/usr/lib/python3.7/multiprocessing/queues.py\", line 104, in get\n",
            "    if not self._poll(timeout):\n",
            "  File \"/usr/lib/python3.7/multiprocessing/connection.py\", line 257, in poll\n",
            "    return self._poll(timeout)\n",
            "  File \"/usr/lib/python3.7/multiprocessing/connection.py\", line 414, in _poll\n",
            "    r = wait([self], timeout)\n",
            "  File \"/usr/lib/python3.7/multiprocessing/connection.py\", line 921, in wait\n",
            "    ready = selector.select(timeout)\n",
            "  File \"/usr/lib/python3.7/selectors.py\", line 415, in select\n",
            "    fd_event_list = self._selector.poll(timeout)\n",
            "KeyboardInterrupt\n",
            "Shutting down background jobs, please wait a moment...\n",
            "Done!\n",
            "Waiting for the remaining 83 operations to synchronize with Neptune. Do not kill this process.\n",
            "All 83 operations synced, thanks for waiting!\n",
            "Explore the metadata in the Neptune app:\n",
            "https://app.neptune.ai/kroschenko/pretrain-networks/e/PRET-37\n"
          ]
        }
      ],
      "source": [
        "! python3 rbm_classic_train.py"
      ]
    },
    {
      "cell_type": "code",
      "execution_count": null,
      "metadata": {
        "id": "cnPp-KWnAJhP"
      },
      "outputs": [],
      "source": [
        "!zip pretrain-networks.zip *"
      ]
    },
    {
      "cell_type": "code",
      "execution_count": null,
      "metadata": {
        "id": "LOgRxT3f2_P_"
      },
      "outputs": [],
      "source": [
        "!cp pretrain-networks.zip /content/drive/MyDrive/Science/pretrain-networks.zip"
      ]
    },
    {
      "cell_type": "code",
      "execution_count": null,
      "metadata": {
        "id": "zI0knIbZ3IQo"
      },
      "outputs": [],
      "source": [
        "!rm pretrain-networks.zip"
      ]
    }
  ],
  "metadata": {
    "accelerator": "GPU",
    "colab": {
      "background_execution": "on",
      "collapsed_sections": [],
      "name": "pretrain+reduce.ipynb",
      "provenance": []
    },
    "gpuClass": "standard",
    "kernelspec": {
      "display_name": "Python 3",
      "name": "python3"
    },
    "language_info": {
      "name": "python"
    }
  },
  "nbformat": 4,
  "nbformat_minor": 0
}