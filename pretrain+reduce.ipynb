{
 "cells": [
  {
   "cell_type": "code",
   "execution_count": 1,
   "metadata": {
    "id": "VSNMKPCrOs_G"
   },
   "outputs": [
    {
     "name": "stdout",
     "output_type": "stream",
     "text": [
      "Requirement already satisfied: neptune-client in /opt/homebrew/Caskroom/miniforge/base/envs/pretrain_neural_networks/lib/python3.8/site-packages (0.16.5)\r\n",
      "Requirement already satisfied: websocket-client!=1.0.0,>=0.35.0 in /opt/homebrew/Caskroom/miniforge/base/envs/pretrain_neural_networks/lib/python3.8/site-packages (from neptune-client) (1.3.3)\r\n",
      "Requirement already satisfied: six>=1.12.0 in /opt/homebrew/Caskroom/miniforge/base/envs/pretrain_neural_networks/lib/python3.8/site-packages (from neptune-client) (1.16.0)\r\n",
      "Requirement already satisfied: boto3>=1.16.0 in /opt/homebrew/Caskroom/miniforge/base/envs/pretrain_neural_networks/lib/python3.8/site-packages (from neptune-client) (1.24.57)\r\n",
      "Requirement already satisfied: bravado in /opt/homebrew/Caskroom/miniforge/base/envs/pretrain_neural_networks/lib/python3.8/site-packages (from neptune-client) (11.0.3)\r\n",
      "Requirement already satisfied: packaging in /opt/homebrew/Caskroom/miniforge/base/envs/pretrain_neural_networks/lib/python3.8/site-packages (from neptune-client) (21.3)\r\n",
      "Requirement already satisfied: urllib3 in /opt/homebrew/Caskroom/miniforge/base/envs/pretrain_neural_networks/lib/python3.8/site-packages (from neptune-client) (1.26.12)\r\n",
      "Requirement already satisfied: PyJWT in /opt/homebrew/Caskroom/miniforge/base/envs/pretrain_neural_networks/lib/python3.8/site-packages (from neptune-client) (2.4.0)\r\n",
      "Requirement already satisfied: requests>=2.20.0 in /opt/homebrew/Caskroom/miniforge/base/envs/pretrain_neural_networks/lib/python3.8/site-packages (from neptune-client) (2.28.1)\r\n",
      "Requirement already satisfied: Pillow>=1.1.6 in /opt/homebrew/Caskroom/miniforge/base/envs/pretrain_neural_networks/lib/python3.8/site-packages (from neptune-client) (9.2.0)\r\n",
      "Requirement already satisfied: click>=7.0 in /opt/homebrew/Caskroom/miniforge/base/envs/pretrain_neural_networks/lib/python3.8/site-packages (from neptune-client) (8.1.3)\r\n",
      "Requirement already satisfied: requests-oauthlib>=1.0.0 in /opt/homebrew/Caskroom/miniforge/base/envs/pretrain_neural_networks/lib/python3.8/site-packages (from neptune-client) (1.3.1)\r\n",
      "Requirement already satisfied: swagger-spec-validator>=2.7.4 in /opt/homebrew/Caskroom/miniforge/base/envs/pretrain_neural_networks/lib/python3.8/site-packages (from neptune-client) (2.7.4)\r\n",
      "Requirement already satisfied: future>=0.17.1 in /opt/homebrew/Caskroom/miniforge/base/envs/pretrain_neural_networks/lib/python3.8/site-packages (from neptune-client) (0.18.2)\r\n",
      "Requirement already satisfied: psutil in /opt/homebrew/Caskroom/miniforge/base/envs/pretrain_neural_networks/lib/python3.8/site-packages (from neptune-client) (5.9.1)\r\n",
      "Requirement already satisfied: GitPython>=2.0.8 in /opt/homebrew/Caskroom/miniforge/base/envs/pretrain_neural_networks/lib/python3.8/site-packages (from neptune-client) (3.1.27)\r\n",
      "Requirement already satisfied: oauthlib>=2.1.0 in /opt/homebrew/Caskroom/miniforge/base/envs/pretrain_neural_networks/lib/python3.8/site-packages (from neptune-client) (3.2.0)\r\n",
      "Requirement already satisfied: pandas in /opt/homebrew/Caskroom/miniforge/base/envs/pretrain_neural_networks/lib/python3.8/site-packages (from neptune-client) (1.4.3)\r\n",
      "Collecting jsonschema<4.0.0\r\n",
      "  Using cached jsonschema-3.2.0-py2.py3-none-any.whl (56 kB)\r\n",
      "Requirement already satisfied: botocore<1.28.0,>=1.27.57 in /opt/homebrew/Caskroom/miniforge/base/envs/pretrain_neural_networks/lib/python3.8/site-packages (from boto3>=1.16.0->neptune-client) (1.27.57)\r\n",
      "Requirement already satisfied: jmespath<2.0.0,>=0.7.1 in /opt/homebrew/Caskroom/miniforge/base/envs/pretrain_neural_networks/lib/python3.8/site-packages (from boto3>=1.16.0->neptune-client) (1.0.1)\r\n",
      "Requirement already satisfied: s3transfer<0.7.0,>=0.6.0 in /opt/homebrew/Caskroom/miniforge/base/envs/pretrain_neural_networks/lib/python3.8/site-packages (from boto3>=1.16.0->neptune-client) (0.6.0)\r\n",
      "Requirement already satisfied: gitdb<5,>=4.0.1 in /opt/homebrew/Caskroom/miniforge/base/envs/pretrain_neural_networks/lib/python3.8/site-packages (from GitPython>=2.0.8->neptune-client) (4.0.9)\r\n",
      "Requirement already satisfied: pyrsistent>=0.14.0 in /opt/homebrew/Caskroom/miniforge/base/envs/pretrain_neural_networks/lib/python3.8/site-packages (from jsonschema<4.0.0->neptune-client) (0.18.1)\r\n",
      "Requirement already satisfied: attrs>=17.4.0 in /opt/homebrew/Caskroom/miniforge/base/envs/pretrain_neural_networks/lib/python3.8/site-packages (from jsonschema<4.0.0->neptune-client) (22.1.0)\r\n",
      "Requirement already satisfied: setuptools in /opt/homebrew/Caskroom/miniforge/base/envs/pretrain_neural_networks/lib/python3.8/site-packages (from jsonschema<4.0.0->neptune-client) (65.2.0)\r\n",
      "Requirement already satisfied: idna<4,>=2.5 in /opt/homebrew/Caskroom/miniforge/base/envs/pretrain_neural_networks/lib/python3.8/site-packages (from requests>=2.20.0->neptune-client) (3.3)\r\n",
      "Requirement already satisfied: certifi>=2017.4.17 in /opt/homebrew/Caskroom/miniforge/base/envs/pretrain_neural_networks/lib/python3.8/site-packages (from requests>=2.20.0->neptune-client) (2022.6.15)\r\n",
      "Requirement already satisfied: charset-normalizer<3,>=2 in /opt/homebrew/Caskroom/miniforge/base/envs/pretrain_neural_networks/lib/python3.8/site-packages (from requests>=2.20.0->neptune-client) (2.1.1)\r\n",
      "Requirement already satisfied: pyyaml in /opt/homebrew/Caskroom/miniforge/base/envs/pretrain_neural_networks/lib/python3.8/site-packages (from swagger-spec-validator>=2.7.4->neptune-client) (6.0)\r\n",
      "Requirement already satisfied: monotonic in /opt/homebrew/Caskroom/miniforge/base/envs/pretrain_neural_networks/lib/python3.8/site-packages (from bravado->neptune-client) (1.6)\r\n",
      "Requirement already satisfied: simplejson in /opt/homebrew/Caskroom/miniforge/base/envs/pretrain_neural_networks/lib/python3.8/site-packages (from bravado->neptune-client) (3.17.6)\r\n",
      "Requirement already satisfied: typing-extensions in /opt/homebrew/Caskroom/miniforge/base/envs/pretrain_neural_networks/lib/python3.8/site-packages (from bravado->neptune-client) (4.3.0)\r\n",
      "Requirement already satisfied: bravado-core>=5.16.1 in /opt/homebrew/Caskroom/miniforge/base/envs/pretrain_neural_networks/lib/python3.8/site-packages (from bravado->neptune-client) (5.17.0)\r\n",
      "Requirement already satisfied: msgpack in /opt/homebrew/Caskroom/miniforge/base/envs/pretrain_neural_networks/lib/python3.8/site-packages (from bravado->neptune-client) (1.0.4)\r\n",
      "Requirement already satisfied: python-dateutil in /opt/homebrew/Caskroom/miniforge/base/envs/pretrain_neural_networks/lib/python3.8/site-packages (from bravado->neptune-client) (2.8.2)\r\n",
      "Requirement already satisfied: pyparsing!=3.0.5,>=2.0.2 in /opt/homebrew/Caskroom/miniforge/base/envs/pretrain_neural_networks/lib/python3.8/site-packages (from packaging->neptune-client) (3.0.9)\r\n",
      "Requirement already satisfied: numpy>=1.20.0 in /opt/homebrew/Caskroom/miniforge/base/envs/pretrain_neural_networks/lib/python3.8/site-packages (from pandas->neptune-client) (1.23.2)\r\n",
      "Requirement already satisfied: pytz>=2020.1 in /opt/homebrew/Caskroom/miniforge/base/envs/pretrain_neural_networks/lib/python3.8/site-packages (from pandas->neptune-client) (2022.2.1)\r\n",
      "Requirement already satisfied: jsonref in /opt/homebrew/Caskroom/miniforge/base/envs/pretrain_neural_networks/lib/python3.8/site-packages (from bravado-core>=5.16.1->bravado->neptune-client) (0.2)\r\n",
      "Requirement already satisfied: jsonschema[format]>=2.5.1 in /opt/homebrew/Caskroom/miniforge/base/envs/pretrain_neural_networks/lib/python3.8/site-packages (from bravado-core>=5.16.1->bravado->neptune-client) (4.14.0)\r\n",
      "Requirement already satisfied: smmap<6,>=3.0.1 in /opt/homebrew/Caskroom/miniforge/base/envs/pretrain_neural_networks/lib/python3.8/site-packages (from gitdb<5,>=4.0.1->GitPython>=2.0.8->neptune-client) (5.0.0)\r\n",
      "Collecting jsonschema[format]>=2.5.1\r\n",
      "  Using cached jsonschema-4.13.0-py3-none-any.whl (81 kB)\r\n",
      "  Using cached jsonschema-4.12.1-py3-none-any.whl (81 kB)\r\n",
      "  Using cached jsonschema-4.12.0-py3-none-any.whl (81 kB)\r\n",
      "  Using cached jsonschema-4.11.0-py3-none-any.whl (80 kB)\r\n",
      "  Using cached jsonschema-4.10.3-py3-none-any.whl (81 kB)\r\n",
      "  Using cached jsonschema-4.10.2-py3-none-any.whl (81 kB)\r\n",
      "  Using cached jsonschema-4.10.1-py3-none-any.whl (81 kB)\r\n",
      "  Using cached jsonschema-4.10.0-py3-none-any.whl (80 kB)\r\n",
      "  Using cached jsonschema-4.9.1-py3-none-any.whl (79 kB)\r\n",
      "  Using cached jsonschema-4.9.0-py3-none-any.whl (79 kB)\r\n",
      "  Using cached jsonschema-4.8.0-py3-none-any.whl (81 kB)\r\n",
      "  Using cached jsonschema-4.7.2-py3-none-any.whl (81 kB)\r\n",
      "  Using cached jsonschema-4.7.1-py3-none-any.whl (80 kB)\r\n",
      "  Using cached jsonschema-4.7.0-py3-none-any.whl (80 kB)\r\n",
      "  Using cached jsonschema-4.6.2-py3-none-any.whl (80 kB)\r\n",
      "  Using cached jsonschema-4.6.1-py3-none-any.whl (80 kB)\r\n",
      "  Using cached jsonschema-4.6.0-py3-none-any.whl (80 kB)\r\n",
      "  Using cached jsonschema-4.5.1-py3-none-any.whl (72 kB)\r\n",
      "  Using cached jsonschema-4.5.0-py3-none-any.whl (73 kB)\r\n",
      "  Using cached jsonschema-4.4.0-py3-none-any.whl (72 kB)\r\n",
      "  Using cached jsonschema-4.3.3-py3-none-any.whl (71 kB)\r\n",
      "  Using cached jsonschema-4.3.2-py3-none-any.whl (71 kB)\r\n",
      "  Using cached jsonschema-4.3.1-py3-none-any.whl (71 kB)\r\n",
      "  Using cached jsonschema-4.3.0-py3-none-any.whl (71 kB)\r\n",
      "  Using cached jsonschema-4.2.1-py3-none-any.whl (69 kB)\r\n",
      "  Using cached jsonschema-4.2.0-py3-none-any.whl (69 kB)\r\n",
      "  Using cached jsonschema-4.1.2-py3-none-any.whl (69 kB)\r\n",
      "  Using cached jsonschema-4.1.1-py3-none-any.whl (69 kB)\r\n",
      "  Using cached jsonschema-4.1.0-py3-none-any.whl (69 kB)\r\n",
      "  Using cached jsonschema-4.0.1-py3-none-any.whl (69 kB)\r\n",
      "Requirement already satisfied: rfc3987 in /opt/homebrew/Caskroom/miniforge/base/envs/pretrain_neural_networks/lib/python3.8/site-packages (from jsonschema<4.0.0->neptune-client) (1.3.8)\r\n",
      "Requirement already satisfied: strict-rfc3339 in /opt/homebrew/Caskroom/miniforge/base/envs/pretrain_neural_networks/lib/python3.8/site-packages (from jsonschema<4.0.0->neptune-client) (0.7)\r\n",
      "Requirement already satisfied: jsonpointer>1.13 in /opt/homebrew/Caskroom/miniforge/base/envs/pretrain_neural_networks/lib/python3.8/site-packages (from jsonschema<4.0.0->neptune-client) (2.3)\r\n",
      "Requirement already satisfied: webcolors in /opt/homebrew/Caskroom/miniforge/base/envs/pretrain_neural_networks/lib/python3.8/site-packages (from jsonschema<4.0.0->neptune-client) (1.12)\r\n",
      "Installing collected packages: jsonschema\r\n",
      "  Attempting uninstall: jsonschema\r\n",
      "    Found existing installation: jsonschema 4.14.0\r\n",
      "    Uninstalling jsonschema-4.14.0:\r\n",
      "      Successfully uninstalled jsonschema-4.14.0\r\n",
      "\u001B[31mERROR: pip's dependency resolver does not currently take into account all the packages that are installed. This behaviour is the source of the following dependency conflicts.\r\n",
      "jupyter 1.0.0 requires qtconsole, which is not installed.\u001B[0m\u001B[31m\r\n",
      "\u001B[0mSuccessfully installed jsonschema-3.2.0\r\n"
     ]
    }
   ],
   "source": [
    "!pip install neptune-client"
   ]
  },
  {
   "cell_type": "code",
   "execution_count": null,
   "metadata": {
    "id": "Gs4N_B5ea4Or"
   },
   "outputs": [],
   "source": [
    "! git clone https://github.com/kroschenko/pretrain-neural-networks"
   ]
  },
  {
   "cell_type": "code",
   "source": [
    "%cd pretrain-neural-networks/"
   ],
   "metadata": {
    "id": "RNdYAn_7bHhe"
   },
   "execution_count": null,
   "outputs": []
  },
  {
   "cell_type": "code",
   "execution_count": null,
   "metadata": {
    "colab": {
     "base_uri": "https://localhost:8080/"
    },
    "id": "5Of4J27WbWwd",
    "outputId": "7ef58265-6d96-4142-cee8-34f031340242",
    "pycharm": {
     "is_executing": true
    }
   },
   "outputs": [],
   "source": [
    "! python3 rbm_classic_train.py"
   ]
  },
  {
   "cell_type": "code",
   "execution_count": null,
   "outputs": [],
   "source": [],
   "metadata": {
    "collapsed": false,
    "pycharm": {
     "name": "#%%\n"
    }
   }
  }
 ],
 "metadata": {
  "accelerator": "GPU",
  "colab": {
   "background_execution": "on",
   "collapsed_sections": [],
   "name": "pretrain+reduce.ipynb",
   "provenance": []
  },
  "gpuClass": "standard",
  "kernelspec": {
   "display_name": "Python 3",
   "name": "python3"
  },
  "language_info": {
   "name": "python"
  }
 },
 "nbformat": 4,
 "nbformat_minor": 0
}